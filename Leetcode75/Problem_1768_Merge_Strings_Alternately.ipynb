{
  "nbformat": 4,
  "nbformat_minor": 0,
  "metadata": {
    "colab": {
      "provenance": [],
      "toc_visible": true,
      "authorship_tag": "ABX9TyNfbA+bzOKmiwphEQESAy+l",
      "include_colab_link": true
    },
    "kernelspec": {
      "name": "python3",
      "display_name": "Python 3"
    },
    "language_info": {
      "name": "python"
    }
  },
  "cells": [
    {
      "cell_type": "markdown",
      "metadata": {
        "id": "view-in-github",
        "colab_type": "text"
      },
      "source": [
        "<a href=\"https://colab.research.google.com/github/BISH0808/Leetcode_problems/blob/main/Leetcode75/Problem_1768_Merge_Strings_Alternately.ipynb\" target=\"_parent\"><img src=\"https://colab.research.google.com/assets/colab-badge.svg\" alt=\"Open In Colab\"/></a>"
      ]
    },
    {
      "cell_type": "markdown",
      "source": [
        "#Merge Strings Alternately"
      ],
      "metadata": {
        "id": "3AnbBZABPwMm"
      }
    },
    {
      "cell_type": "markdown",
      "source": [
        "https://leetcode.com/problems/merge-strings-alternately/?envType=study-plan-v2&envId=leetcode-75"
      ],
      "metadata": {
        "id": "Gyl3XaMRBR5q"
      }
    },
    {
      "cell_type": "markdown",
      "source": [
        "# Предисловие"
      ],
      "metadata": {
        "id": "cZVNqsuBBSZR"
      }
    },
    {
      "cell_type": "markdown",
      "source": [
        "*"
      ],
      "metadata": {
        "id": "3JHQZ6xQ5LO9"
      }
    },
    {
      "cell_type": "markdown",
      "source": [
        "#Решение на бумаге"
      ],
      "metadata": {
        "id": "jRlJySEBQk81"
      }
    },
    {
      "cell_type": "markdown",
      "source": [],
      "metadata": {
        "id": "nHC9wPBMBR3o"
      }
    },
    {
      "cell_type": "markdown",
      "source": [
        "#Используемые алгоритмы"
      ],
      "metadata": {
        "id": "x3kO1Mhbg0ez"
      }
    },
    {
      "cell_type": "markdown",
      "source": [
        "*"
      ],
      "metadata": {
        "id": "unLlgYYMg4bS"
      }
    },
    {
      "cell_type": "markdown",
      "source": [
        "# Сложность алгоритма"
      ],
      "metadata": {
        "id": "FnT9zzMgBSna"
      }
    },
    {
      "cell_type": "markdown",
      "source": [
        "Сложность алгоритма -"
      ],
      "metadata": {
        "id": "yyphC76GBbrJ"
      }
    },
    {
      "cell_type": "markdown",
      "source": [
        "# Краевые кейсы:\n"
      ],
      "metadata": {
        "id": "KFUEavdOBmgB"
      }
    },
    {
      "cell_type": "markdown",
      "source": [
        "* Пустой список"
      ],
      "metadata": {
        "id": "cBkMZUN8jjYc"
      }
    },
    {
      "cell_type": "markdown",
      "source": [
        "#Код"
      ],
      "metadata": {
        "id": "MUKZfc0KBnBC"
      }
    },
    {
      "cell_type": "code",
      "execution_count": null,
      "metadata": {
        "id": "O4ibsRSiPjiD"
      },
      "outputs": [],
      "source": [
        "/**\n",
        " * @param {string} word1\n",
        " * @param {string} word2\n",
        " * @return {string}\n",
        " */\n",
        "var mergeAlternately = function(word1, word2) {\n",
        "\n",
        "};\n"
      ]
    },
    {
      "cell_type": "markdown",
      "source": [
        "**Ответ с Leetcode:**"
      ],
      "metadata": {
        "id": "o9Eu0yA02eDp"
      }
    },
    {
      "cell_type": "markdown",
      "source": [
        "**Accepted**"
      ],
      "metadata": {
        "id": "wHvUQ7Gf2gOR"
      }
    },
    {
      "cell_type": "markdown",
      "source": [
        "#Объяснения от ChatGPT"
      ],
      "metadata": {
        "id": "FzqZfJzL2ju7"
      }
    },
    {
      "cell_type": "markdown",
      "source": [],
      "metadata": {
        "id": "MLup9Kq-2mGS"
      }
    }
  ]
}