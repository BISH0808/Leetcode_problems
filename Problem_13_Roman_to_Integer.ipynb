{
  "nbformat": 4,
  "nbformat_minor": 0,
  "metadata": {
    "colab": {
      "provenance": [],
      "authorship_tag": "ABX9TyP5lzT8UWvw4n03Y1gZTOBw",
      "include_colab_link": true
    },
    "kernelspec": {
      "name": "python3",
      "display_name": "Python 3"
    },
    "language_info": {
      "name": "python"
    }
  },
  "cells": [
    {
      "cell_type": "markdown",
      "metadata": {
        "id": "view-in-github",
        "colab_type": "text"
      },
      "source": [
        "<a href=\"https://colab.research.google.com/github/BISH0808/Leetcode_problems/blob/main/Problem_13_Roman_to_Integer.ipynb\" target=\"_parent\"><img src=\"https://colab.research.google.com/assets/colab-badge.svg\" alt=\"Open In Colab\"/></a>"
      ]
    },
    {
      "cell_type": "code",
      "execution_count": null,
      "metadata": {
        "id": "6UeMs0qhVQ-h"
      },
      "outputs": [],
      "source": [
        "class Solution:\n",
        "    def romanToInt(self, s: str) -> int:\n",
        "        total = 0\n",
        "        theDict = {\"I\": 1, \"V\": 5, \"X\": 10, \"L\": 50, \"C\": 100, \"D\": 500, \"M\": 1000}\n",
        "\n",
        "        for i in s:\n",
        "            total += theDict[i]\n",
        "\n",
        "        if \"IV\" in s:\n",
        "            total -= 2\n",
        "        if \"IX\" in s:\n",
        "            total -= 2\n",
        "        if \"XL\" in s:\n",
        "            total -= 20\n",
        "        if \"XC\" in s:\n",
        "            total -= 20\n",
        "        if \"CD\" in s:\n",
        "            total -= 200\n",
        "        if \"CM\" in s:\n",
        "            total -= 200\n",
        "        return total"
      ]
    }
  ]
}