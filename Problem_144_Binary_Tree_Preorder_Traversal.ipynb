{
  "nbformat": 4,
  "nbformat_minor": 0,
  "metadata": {
    "colab": {
      "provenance": [],
      "authorship_tag": "ABX9TyMn8HXe8Sa4Uf8he87ZQMlZ",
      "include_colab_link": true
    },
    "kernelspec": {
      "name": "python3",
      "display_name": "Python 3"
    },
    "language_info": {
      "name": "python"
    }
  },
  "cells": [
    {
      "cell_type": "markdown",
      "metadata": {
        "id": "view-in-github",
        "colab_type": "text"
      },
      "source": [
        "<a href=\"https://colab.research.google.com/github/BISH0808/Leetcode_problems/blob/main/Problem_144_Binary_Tree_Preorder_Traversal.ipynb\" target=\"_parent\"><img src=\"https://colab.research.google.com/assets/colab-badge.svg\" alt=\"Open In Colab\"/></a>"
      ]
    },
    {
      "cell_type": "markdown",
      "source": [
        "#Problem 144. Binary Tree Preorder Traversal"
      ],
      "metadata": {
        "id": "JZ1gZM9qlViO"
      }
    },
    {
      "cell_type": "markdown",
      "source": [
        "#Solution"
      ],
      "metadata": {
        "id": "xGR3zUiyr7em"
      }
    },
    {
      "cell_type": "code",
      "source": [
        "class Solution:\n",
        "    def preorderTraversal(self, root: TreeNode) -> List[int]:\n",
        "        answer = []\n",
        "        stack = [root]\n",
        "\n",
        "        # Note that we add curr_node's right child to the stack first.\n",
        "        while stack:\n",
        "            curr_node = stack.pop()\n",
        "            if curr_node:\n",
        "                answer.append(curr_node.val)\n",
        "                stack.append(curr_node.right)\n",
        "                stack.append(curr_node.left)\n",
        "                \n",
        "        return answer"
      ],
      "metadata": {
        "id": "ybfidi_Zr9TX"
      },
      "execution_count": null,
      "outputs": []
    }
  ]
}