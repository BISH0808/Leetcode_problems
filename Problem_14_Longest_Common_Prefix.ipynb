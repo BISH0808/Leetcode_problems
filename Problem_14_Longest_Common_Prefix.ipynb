{
  "nbformat": 4,
  "nbformat_minor": 0,
  "metadata": {
    "colab": {
      "provenance": [],
      "authorship_tag": "ABX9TyMdH/FEvsOh6ZGJdf2kGSBY",
      "include_colab_link": true
    },
    "kernelspec": {
      "name": "python3",
      "display_name": "Python 3"
    },
    "language_info": {
      "name": "python"
    }
  },
  "cells": [
    {
      "cell_type": "markdown",
      "metadata": {
        "id": "view-in-github",
        "colab_type": "text"
      },
      "source": [
        "<a href=\"https://colab.research.google.com/github/BISH0808/Leetcode_problems/blob/main/Problem_14_Longest_Common_Prefix.ipynb\" target=\"_parent\"><img src=\"https://colab.research.google.com/assets/colab-badge.svg\" alt=\"Open In Colab\"/></a>"
      ]
    },
    {
      "cell_type": "markdown",
      "source": [
        "Problem #14. Longest Common Prefix"
      ],
      "metadata": {
        "id": "ekJV0iuCfIdt"
      }
    },
    {
      "cell_type": "markdown",
      "source": [
        "Решить задачу при помощи разных алгоритмов (предварительно расписать эти алгоритмы в репозитории Алгоритмы):\n",
        "* Horizontal scanning\n",
        "* Vertical scanning\n",
        "* Divide and conquer\n",
        "* Binary search\n",
        "\n",
        "\n",
        "Оценить сложность алгоритма\n"
      ],
      "metadata": {
        "id": "Qd9EkPLVgSYz"
      }
    },
    {
      "cell_type": "code",
      "execution_count": null,
      "metadata": {
        "id": "p3tE8wmvfHU0"
      },
      "outputs": [],
      "source": [
        "class Solution:\n",
        "    def longestCommonPrefix(self, strs: List[str]) -> str:\n",
        "        res = \"\"\n",
        "        for a in zip(*strs):\n",
        "            if len(set(a)) == 1: \n",
        "                res += a[0]\n",
        "            else: \n",
        "                return res\n",
        "        return res"
      ]
    }
  ]
}