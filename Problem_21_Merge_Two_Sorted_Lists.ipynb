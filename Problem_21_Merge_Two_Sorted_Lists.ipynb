{
  "nbformat": 4,
  "nbformat_minor": 0,
  "metadata": {
    "colab": {
      "provenance": [],
      "authorship_tag": "ABX9TyMtB9o1AVTOPPuPnyR9UjJc",
      "include_colab_link": true
    },
    "kernelspec": {
      "name": "python3",
      "display_name": "Python 3"
    },
    "language_info": {
      "name": "python"
    }
  },
  "cells": [
    {
      "cell_type": "markdown",
      "metadata": {
        "id": "view-in-github",
        "colab_type": "text"
      },
      "source": [
        "<a href=\"https://colab.research.google.com/github/BISH0808/Leetcode_problems/blob/main/Problem_21_Merge_Two_Sorted_Lists.ipynb\" target=\"_parent\"><img src=\"https://colab.research.google.com/assets/colab-badge.svg\" alt=\"Open In Colab\"/></a>"
      ]
    },
    {
      "cell_type": "markdown",
      "source": [
        "Problem #21. Merge Two Sorted Lists\n"
      ],
      "metadata": {
        "id": "4zPK57y6EVaP"
      }
    },
    {
      "cell_type": "code",
      "execution_count": null,
      "metadata": {
        "id": "4sTcXP-6D7a2"
      },
      "outputs": [],
      "source": [
        "# Definition for singly-linked list.\n",
        "# class ListNode:\n",
        "#     def __init__(self, val=0, next=None):\n",
        "#         self.val = val\n",
        "#         self.next = next\n",
        "class Solution:\n",
        "    def mergeTwoLists(self, list1: Optional[ListNode], list2: Optional[ListNode]) -> Optional[ListNode]:\n",
        "        cur = dummy = ListNode()\n",
        "        while list1 and list2:               \n",
        "            if list1.val < list2.val:\n",
        "                cur.next = list1\n",
        "                list1, cur = list1.next, list1\n",
        "            else:\n",
        "                cur.next = list2\n",
        "                list2, cur = list2.next, list2\n",
        "                \n",
        "        if list1 or list2:\n",
        "            cur.next = list1 if list1 else list2\n",
        "            \n",
        "        return dummy.next"
      ]
    }
  ]
}