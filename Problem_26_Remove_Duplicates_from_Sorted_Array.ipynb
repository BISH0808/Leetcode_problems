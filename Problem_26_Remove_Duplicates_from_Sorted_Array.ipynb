{
  "nbformat": 4,
  "nbformat_minor": 0,
  "metadata": {
    "colab": {
      "provenance": [],
      "authorship_tag": "ABX9TyMAgkFDmyaLKR2imHcCoca0",
      "include_colab_link": true
    },
    "kernelspec": {
      "name": "python3",
      "display_name": "Python 3"
    },
    "language_info": {
      "name": "python"
    }
  },
  "cells": [
    {
      "cell_type": "markdown",
      "metadata": {
        "id": "view-in-github",
        "colab_type": "text"
      },
      "source": [
        "<a href=\"https://colab.research.google.com/github/BISH0808/Leetcode_problems/blob/main/Problem_26_Remove_Duplicates_from_Sorted_Array.ipynb\" target=\"_parent\"><img src=\"https://colab.research.google.com/assets/colab-badge.svg\" alt=\"Open In Colab\"/></a>"
      ]
    },
    {
      "cell_type": "markdown",
      "source": [
        "## Problem 26. Remove Duplicates from Sorted Array"
      ],
      "metadata": {
        "id": "Tqs5FCNaRWe5"
      }
    },
    {
      "cell_type": "code",
      "execution_count": null,
      "metadata": {
        "id": "vqujyQWPRQ5p"
      },
      "outputs": [],
      "source": [
        "class Solution:\n",
        "\tdef removeDuplicates(self, nums: List[int]) -> int:\n",
        "\t\ti = 1\n",
        "\t\twhile i < len(nums):\n",
        "\t\t\tif nums[i] == nums[i - 1]:\n",
        "\t\t\t\tnums.pop(i)\n",
        "\t\t\telse:\n",
        "\t\t\t\ti += 1\n",
        "\t\treturn len(nums)"
      ]
    }
  ]
}