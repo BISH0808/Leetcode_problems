{
  "nbformat": 4,
  "nbformat_minor": 0,
  "metadata": {
    "colab": {
      "provenance": [],
      "authorship_tag": "ABX9TyNXziSyc1cFxS9HpdehAYem",
      "include_colab_link": true
    },
    "kernelspec": {
      "name": "python3",
      "display_name": "Python 3"
    },
    "language_info": {
      "name": "python"
    }
  },
  "cells": [
    {
      "cell_type": "markdown",
      "metadata": {
        "id": "view-in-github",
        "colab_type": "text"
      },
      "source": [
        "<a href=\"https://colab.research.google.com/github/BISH0808/Leetcode_problems/blob/main/Problem_35__Search_Insert_Position.ipynb\" target=\"_parent\"><img src=\"https://colab.research.google.com/assets/colab-badge.svg\" alt=\"Open In Colab\"/></a>"
      ]
    },
    {
      "cell_type": "code",
      "execution_count": null,
      "metadata": {
        "id": "ADoGFU-eQ8cL"
      },
      "outputs": [],
      "source": []
    },
    {
      "cell_type": "markdown",
      "source": [
        "# Search Insert Position  "
      ],
      "metadata": {
        "id": "swIy5qLWTX2A"
      }
    },
    {
      "cell_type": "markdown",
      "source": [
        "https://leetcode.com/problems/search-insert-position/description/ - на leetcode"
      ],
      "metadata": {
        "id": "fia9w0eITZKc"
      }
    },
    {
      "cell_type": "markdown",
      "source": [
        "# Условие задачи"
      ],
      "metadata": {
        "id": "uptOY0NTUBXg"
      }
    },
    {
      "cell_type": "markdown",
      "source": [
        "Учитывая отсортированный массив различных целых чисел и целевое значение, верните индекс, если цель найдена. Если нет, верните индекс там, где он был бы, если бы он был вставлен по порядку.\n",
        "\n",
        "Вы должны написать алгоритм со сложностью выполнения O(log n)."
      ],
      "metadata": {
        "id": "bD8PqRQGUDzd"
      }
    },
    {
      "cell_type": "markdown",
      "source": [
        "#Используемые алгоритмы"
      ],
      "metadata": {
        "id": "yE0CEv-n0Kda"
      }
    },
    {
      "cell_type": "markdown",
      "source": [
        "* Бинарный поиск"
      ],
      "metadata": {
        "id": "xlnb6uuB0LuK"
      }
    },
    {
      "cell_type": "markdown",
      "source": [
        "# Предисловие"
      ],
      "metadata": {
        "id": "s0khq6PbTtO1"
      }
    },
    {
      "cell_type": "markdown",
      "source": [
        "* Простая задача, в основе которой будет использовться бинарный поиск."
      ],
      "metadata": {
        "id": "Jh0NjzEyT5ys"
      }
    },
    {
      "cell_type": "markdown",
      "source": [
        "# Сложность алгоритма"
      ],
      "metadata": {
        "id": "bGJMDHrizX20"
      }
    },
    {
      "cell_type": "markdown",
      "source": [
        "Сложность алгоритма - 0(logn), так как здесь мы пользуемся алгоритмом бинарного поиска."
      ],
      "metadata": {
        "id": "UCJ3pFa9zatS"
      }
    },
    {
      "cell_type": "markdown",
      "source": [
        "# Краевые кейсы"
      ],
      "metadata": {
        "id": "gKhhXsVrzTCx"
      }
    },
    {
      "cell_type": "markdown",
      "source": [
        "* Пустой список\n",
        "* Все одинаковые значения в списке"
      ],
      "metadata": {
        "id": "bmSPhvSUzV8Z"
      }
    },
    {
      "cell_type": "markdown",
      "source": [
        "# Код"
      ],
      "metadata": {
        "id": "F2NYWLatzBO6"
      }
    },
    {
      "cell_type": "markdown",
      "source": [],
      "metadata": {
        "id": "2XZNE5YxzDDB"
      }
    },
    {
      "cell_type": "code",
      "source": [
        "/**\n",
        " * @param {number[]} nums\n",
        " * @param {number} target\n",
        " * @return {number}\n",
        " */\n",
        "var searchInsert = function(nums, target) {\n",
        "        // # в первую очередь необходимо получить центральный элемент в массиве\n",
        "     let count = 0\n",
        "     let start = 0\n",
        "     let end = nums.length\n",
        "     // # cразу центральный элемент в массиве вычислять не будем, сделаем это внутри цикла\n",
        "     let middle;\n",
        "     let found = false;\n",
        "     let position = -1; // set to -1 in case item is not found\n",
        "     // # напишем цикл, в котором мы либо найдем элемент или пока искомый и финальный элемент не сравняются\n",
        "     while (found === false && start <= end) {\n",
        "     // # посчитаем количество итераций\n",
        "         count +=1;\n",
        "     // # ищем середину массива\n",
        "     // # Функция Math.floor округляет полученное значение до целого числа, до нижней грацины\n",
        "     // # Надо добавить условие, если в массиве всего 2 элемента, тогда position = start\n",
        "     middle = Math.floor((start + end) / 2); // corrected the position of the parentheses\n",
        "\n",
        "     if (nums[middle] === target) {\n",
        "       found = true;\n",
        "       position == middle\n",
        "       return middle;\n",
        "     } else if (target > nums[middle]) {\n",
        "       start = middle + 1;\n",
        "\n",
        "     } else {\n",
        "       end = middle - 1;\n",
        "\n",
        "     }\n",
        "   }\n",
        "\n",
        "   return start;\n",
        "\n",
        "};"
      ],
      "metadata": {
        "id": "HrPtaLRZzENZ"
      },
      "execution_count": null,
      "outputs": []
    },
    {
      "cell_type": "markdown",
      "source": [
        "#Ответ с Leetcode:"
      ],
      "metadata": {
        "id": "q_8r8PurzHBB"
      }
    },
    {
      "cell_type": "markdown",
      "source": [
        "Accepted"
      ],
      "metadata": {
        "id": "ya9saWcOzIXR"
      }
    },
    {
      "cell_type": "markdown",
      "source": [
        "#Комментарии"
      ],
      "metadata": {
        "id": "N5lCG2hC0Rjq"
      }
    },
    {
      "cell_type": "markdown",
      "source": [
        "* Изначально не прошел 58 тест, но поменял местами условия else if (target > nums[middle]) и else {      end = middle - 1;}, и все заработало"
      ],
      "metadata": {
        "id": "roIz6jLA0Tyh"
      }
    },
    {
      "cell_type": "code",
      "source": [],
      "metadata": {
        "id": "Ap0Rk91YacZT"
      },
      "execution_count": null,
      "outputs": []
    }
  ]
}