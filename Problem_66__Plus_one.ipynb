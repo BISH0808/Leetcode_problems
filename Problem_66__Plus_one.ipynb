{
  "nbformat": 4,
  "nbformat_minor": 0,
  "metadata": {
    "colab": {
      "provenance": [],
      "authorship_tag": "ABX9TyMViXKLeF6Ewm8Rk4zTOD+F",
      "include_colab_link": true
    },
    "kernelspec": {
      "name": "python3",
      "display_name": "Python 3"
    },
    "language_info": {
      "name": "python"
    }
  },
  "cells": [
    {
      "cell_type": "markdown",
      "metadata": {
        "id": "view-in-github",
        "colab_type": "text"
      },
      "source": [
        "<a href=\"https://colab.research.google.com/github/BISH0808/Leetcode_problems/blob/main/Problem_66__Plus_one.ipynb\" target=\"_parent\"><img src=\"https://colab.research.google.com/assets/colab-badge.svg\" alt=\"Open In Colab\"/></a>"
      ]
    },
    {
      "cell_type": "code",
      "execution_count": null,
      "metadata": {
        "id": "ADoGFU-eQ8cL"
      },
      "outputs": [],
      "source": []
    },
    {
      "cell_type": "markdown",
      "source": [
        "# Plus_one"
      ],
      "metadata": {
        "id": "swIy5qLWTX2A"
      }
    },
    {
      "cell_type": "markdown",
      "source": [
        "https://leetcode.com/problems/plus-one/- на leetcode"
      ],
      "metadata": {
        "id": "fia9w0eITZKc"
      }
    },
    {
      "cell_type": "markdown",
      "source": [
        "# Условие задачи"
      ],
      "metadata": {
        "id": "uptOY0NTUBXg"
      }
    },
    {
      "cell_type": "markdown",
      "source": [],
      "metadata": {
        "id": "bD8PqRQGUDzd"
      }
    },
    {
      "cell_type": "markdown",
      "source": [
        "#Используемые алгоритмы"
      ],
      "metadata": {
        "id": "yE0CEv-n0Kda"
      }
    },
    {
      "cell_type": "markdown",
      "source": [
        "\n"
      ],
      "metadata": {
        "id": "xlnb6uuB0LuK"
      }
    },
    {
      "cell_type": "markdown",
      "source": [
        "# Предисловие"
      ],
      "metadata": {
        "id": "s0khq6PbTtO1"
      }
    },
    {
      "cell_type": "markdown",
      "source": [],
      "metadata": {
        "id": "Jh0NjzEyT5ys"
      }
    },
    {
      "cell_type": "markdown",
      "source": [
        "# Сложность алгоритма"
      ],
      "metadata": {
        "id": "bGJMDHrizX20"
      }
    },
    {
      "cell_type": "markdown",
      "source": [],
      "metadata": {
        "id": "UCJ3pFa9zatS"
      }
    },
    {
      "cell_type": "markdown",
      "source": [
        "# Краевые кейсы"
      ],
      "metadata": {
        "id": "gKhhXsVrzTCx"
      }
    },
    {
      "cell_type": "markdown",
      "source": [
        "* Пустой список\n",
        "* Все одинаковые значения в списке"
      ],
      "metadata": {
        "id": "bmSPhvSUzV8Z"
      }
    },
    {
      "cell_type": "markdown",
      "source": [
        "# Код"
      ],
      "metadata": {
        "id": "F2NYWLatzBO6"
      }
    },
    {
      "cell_type": "markdown",
      "source": [
        "Написал код для простого кейса"
      ],
      "metadata": {
        "id": "2XZNE5YxzDDB"
      }
    },
    {
      "cell_type": "code",
      "source": [
        "/**\n",
        " * @param {number[]} digits\n",
        " * @return {number[]}\n",
        " */\n",
        "var plusOne = function(digits) {\n",
        "    // # пишим код для простого кейса\n",
        "    let end = digits.length - 1\n",
        "    // end = end + 1\n",
        "    digits[end] = digits[end] + 1\n",
        "    return digits;\n",
        "};"
      ],
      "metadata": {
        "id": "HrPtaLRZzENZ"
      },
      "execution_count": null,
      "outputs": []
    },
    {
      "cell_type": "markdown",
      "source": [
        "#Ответ с Leetcode:"
      ],
      "metadata": {
        "id": "q_8r8PurzHBB"
      }
    },
    {
      "cell_type": "markdown",
      "source": [],
      "metadata": {
        "id": "ya9saWcOzIXR"
      }
    },
    {
      "cell_type": "markdown",
      "source": [
        "#Комментарии"
      ],
      "metadata": {
        "id": "N5lCG2hC0Rjq"
      }
    },
    {
      "cell_type": "markdown",
      "source": [],
      "metadata": {
        "id": "roIz6jLA0Tyh"
      }
    },
    {
      "cell_type": "code",
      "source": [],
      "metadata": {
        "id": "Ap0Rk91YacZT"
      },
      "execution_count": null,
      "outputs": []
    }
  ]
}