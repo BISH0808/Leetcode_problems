{
  "nbformat": 4,
  "nbformat_minor": 0,
  "metadata": {
    "colab": {
      "provenance": [],
      "authorship_tag": "ABX9TyPdRZJ3ZWh5JrvICFN7TBM7",
      "include_colab_link": true
    },
    "kernelspec": {
      "name": "python3",
      "display_name": "Python 3"
    },
    "language_info": {
      "name": "python"
    }
  },
  "cells": [
    {
      "cell_type": "markdown",
      "metadata": {
        "id": "view-in-github",
        "colab_type": "text"
      },
      "source": [
        "<a href=\"https://colab.research.google.com/github/BISH0808/Leetcode_problems/blob/main/Problem_9_Palindrome_Number.ipynb\" target=\"_parent\"><img src=\"https://colab.research.google.com/assets/colab-badge.svg\" alt=\"Open In Colab\"/></a>"
      ]
    },
    {
      "cell_type": "code",
      "execution_count": null,
      "metadata": {
        "id": "v34exEaVIuX4"
      },
      "outputs": [],
      "source": [
        "class Solution:\n",
        "    def isPalindrome(self, x: int) -> bool:\n",
        "        \n",
        "        if x<0:\n",
        "            return False\n",
        "        else:\n",
        "            a=int(str(x)[::-1])\n",
        "            if x == a:\n",
        "                return True\n",
        "            else:\n",
        "                return False"
      ]
    }
  ]
}